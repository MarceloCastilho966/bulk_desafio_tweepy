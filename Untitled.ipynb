{
 "cells": [
  {
   "cell_type": "code",
   "execution_count": 101,
   "id": "aba8f1d5",
   "metadata": {},
   "outputs": [],
   "source": [
    "from pyspark.sql import SparkSession\n",
    "from pyspark.sql.functions import *\n",
    "import pandas as pd\n",
    "import matplotlib.pyplot as plt\n",
    "import nltk\n",
    "import seaborn as sns"
   ]
  },
  {
   "cell_type": "code",
   "execution_count": 8,
   "id": "18f8b3ab",
   "metadata": {},
   "outputs": [],
   "source": [
    "appName = \"Spark - Setting Log Level\"\n",
    "master = \"local\"\n",
    "\n",
    "# Create Spark session\n",
    "spark = SparkSession.builder \\\n",
    "    .appName(appName) \\\n",
    "    .master(master) \\\n",
    "    .getOrCreate()\n",
    "\n",
    "spark.sparkContext.setLogLevel(\"INFO\")"
   ]
  },
  {
   "cell_type": "markdown",
   "id": "e3439e80",
   "metadata": {},
   "source": [
    "## Leitura e limpeza dos dados recebidos"
   ]
  },
  {
   "cell_type": "code",
   "execution_count": 25,
   "id": "26008c59",
   "metadata": {
    "scrolled": true
   },
   "outputs": [
    {
     "name": "stdout",
     "output_type": "stream",
     "text": [
      "+-------------------+--------------------+--------------------+\n",
      "|                 ID|                Text|                Data|\n",
      "+-------------------+--------------------+--------------------+\n",
      "|1436827991603044353|#BolsonaroNoPrime...|2022-09-18 18:37:...|\n",
      "|         3380746403|@ThiagoResiste @L...|2022-09-18 18:37:...|\n",
      "|           23585798|@arnoldonunes @Ni...|2022-09-18 18:37:...|\n",
      "|1057747049800757248|@Bel_na_lua @Rica...|2022-09-18 18:37:...|\n",
      "|1561463890034180096|@sandri_regina @S...|2022-09-18 18:37:...|\n",
      "+-------------------+--------------------+--------------------+\n",
      "only showing top 5 rows\n",
      "\n"
     ]
    }
   ],
   "source": [
    "df = spark.read.csv('/home/marcelo/eleicoes2022.csv',header=True, sep='|', multiLine=True, escape='\"')\n",
    "df.show(5)"
   ]
  },
  {
   "cell_type": "markdown",
   "id": "72dfcfbf",
   "metadata": {},
   "source": [
    "------------------\n"
   ]
  },
  {
   "cell_type": "markdown",
   "id": "5d765792",
   "metadata": {},
   "source": [
    "### To Pandas"
   ]
  },
  {
   "cell_type": "code",
   "execution_count": 26,
   "id": "2643c901",
   "metadata": {},
   "outputs": [],
   "source": [
    "pandasDF = df.toPandas()"
   ]
  },
  {
   "cell_type": "markdown",
   "id": "09a43776",
   "metadata": {},
   "source": [
    "------------------"
   ]
  },
  {
   "cell_type": "markdown",
   "id": "eaa1684e",
   "metadata": {},
   "source": [
    "### Criando DF das duas hashtags buscadas"
   ]
  },
  {
   "cell_type": "code",
   "execution_count": 113,
   "id": "30d4c863",
   "metadata": {},
   "outputs": [],
   "source": [
    "bolsonaro = pandasDF.query('Text.str.contains(\"#BolsonaroNoPrimeiroTurno22\")', engine='python')"
   ]
  },
  {
   "cell_type": "code",
   "execution_count": 112,
   "id": "788b8747",
   "metadata": {
    "scrolled": true
   },
   "outputs": [],
   "source": [
    "lula = pandasDF.query('Text.str.contains(\"#LulaNo1oturno\")', engine='python')"
   ]
  },
  {
   "cell_type": "code",
   "execution_count": 301,
   "id": "181e5ebe",
   "metadata": {},
   "outputs": [
    {
     "name": "stdout",
     "output_type": "stream",
     "text": [
      "Contagem de Tweets: \n",
      "\n",
      "----------------------------------------\n",
      "Total: 3229 \n",
      "\n",
      "BolsonaroNoPrimeiroTurno22: 1631 \n",
      "\n",
      "LulaNo1oturno: 637\n",
      "----------------------------------------\n"
     ]
    }
   ],
   "source": [
    "count_total = pandasDF['ID'].count()\n",
    "count_bolsonaro = bolsonaro['Text'].count()\n",
    "count_lula = lula['Text'].count()\n",
    "print('Contagem de Tweets: \\n')\n",
    "print('-'*40)\n",
    "print(f'Total: {count_total} \\n')\n",
    "print(f'BolsonaroNoPrimeiroTurno22: {count_bolsonaro} \\n')\n",
    "print(f'LulaNo1oturno: {count_lula}')\n",
    "print('-'*40)"
   ]
  },
  {
   "cell_type": "code",
   "execution_count": 284,
   "id": "cfdea438",
   "metadata": {},
   "outputs": [
    {
     "data": {
      "text/plain": [
       "<BarContainer object of 3 artists>"
      ]
     },
     "execution_count": 284,
     "metadata": {},
     "output_type": "execute_result"
    },
    {
     "data": {
      "image/png": "[encoded data removed]",
      "text/plain": [
       "<Figure size 1080x360 with 1 Axes>"
      ]
     },
     "metadata": {
      "needs_background": "light"
     },
     "output_type": "display_data"
    }
   ],
   "source": [
    "nomes = ['Total', 'Bolsonaro', 'Lula']\n",
    "valores = [count_total, count_bolsonaro, count_lula]\n",
    "\n",
    "plt.figure(figsize=(15, 5))\n",
    "plt.subplot(131)\n",
    "plt.bar(nomes, valores)"
   ]
  },
  {
   "cell_type": "markdown",
   "id": "aed8dea8",
   "metadata": {},
   "source": [
    "-------------------"
   ]
  },
  {
   "cell_type": "markdown",
   "id": "2a56d449",
   "metadata": {},
   "source": [
    "## Contador das palavras mais utilizadas nos tweets"
   ]
  },
  {
   "cell_type": "markdown",
   "id": "c2cb9663",
   "metadata": {},
   "source": [
    "### Geral"
   ]
  },
  {
   "cell_type": "code",
   "execution_count": 241,
   "id": "2ec8ee82",
   "metadata": {},
   "outputs": [
    {
     "data": {
      "text/html": [
       "<div>\n",
       "<style scoped>\n",
       "    .dataframe tbody tr th:only-of-type {\n",
       "        vertical-align: middle;\n",
       "    }\n",
       "\n",
       "    .dataframe tbody tr th {\n",
       "        vertical-align: top;\n",
       "    }\n",
       "\n",
       "    .dataframe thead th {\n",
       "        text-align: right;\n",
       "    }\n",
       "</style>\n",
       "<table border=\"1\" class=\"dataframe\">\n",
       "  <thead>\n",
       "    <tr style=\"text-align: right;\">\n",
       "      <th></th>\n",
       "      <th>Palavra</th>\n",
       "      <th>Frequencia</th>\n",
       "    </tr>\n",
       "  </thead>\n",
       "  <tbody>\n",
       "    <tr>\n",
       "      <th>0</th>\n",
       "      <td>BolsonaroNoPrimeiroTurno22</td>\n",
       "      <td>1639</td>\n",
       "    </tr>\n",
       "    <tr>\n",
       "      <th>1</th>\n",
       "      <td>LulaNo1oturno</td>\n",
       "      <td>636</td>\n",
       "    </tr>\n",
       "    <tr>\n",
       "      <th>2</th>\n",
       "      <td>LulaOficial</td>\n",
       "      <td>580</td>\n",
       "    </tr>\n",
       "    <tr>\n",
       "      <th>3</th>\n",
       "      <td>Seguindo</td>\n",
       "      <td>278</td>\n",
       "    </tr>\n",
       "    <tr>\n",
       "      <th>4</th>\n",
       "      <td>Nilsonhandebol</td>\n",
       "      <td>229</td>\n",
       "    </tr>\n",
       "  </tbody>\n",
       "</table>\n",
       "</div>"
      ],
      "text/plain": [
       "                      Palavra  Frequencia\n",
       "0  BolsonaroNoPrimeiroTurno22        1639\n",
       "1               LulaNo1oturno         636\n",
       "2                 LulaOficial         580\n",
       "3                    Seguindo         278\n",
       "4              Nilsonhandebol         229"
      ]
     },
     "metadata": {},
     "output_type": "display_data"
    }
   ],
   "source": [
    "top_N = 5\n",
    "a = pandasDF['Text'].str.cat(sep=' ')\n",
    "words = nltk.tokenize.word_tokenize(a)\n",
    "words = [word for word in words if len(word) > 4]\n",
    "word_dist = nltk.FreqDist(words)\n",
    "rslt = pd.DataFrame(word_dist.most_common(top_N),\n",
    "                    columns=['Palavra', 'Frequencia'])\n",
    "display(rslt)"
   ]
  },
  {
   "cell_type": "code",
   "execution_count": 250,
   "id": "fdba96a2",
   "metadata": {},
   "outputs": [
    {
     "data": {
      "image/png": "[encoded data removed]",
      "text/plain": [
       "<Figure size 432x288 with 1 Axes>"
      ]
     },
     "metadata": {
      "needs_background": "light"
     },
     "output_type": "display_data"
    },
    {
     "data": {
      "text/plain": [
       "<Figure size 720x576 with 0 Axes>"
      ]
     },
     "metadata": {},
     "output_type": "display_data"
    }
   ],
   "source": [
    "df1 = sns.load_dataset('tips')\n",
    "sns.lineplot(data=rslt, x=\"Frequencia\", y=\"Palavra\")\n",
    "plt.show()"
   ]
  },
  {
   "cell_type": "markdown",
   "id": "b82f8cd3",
   "metadata": {},
   "source": [
    "-----------------"
   ]
  },
  {
   "cell_type": "markdown",
   "id": "28a6db83",
   "metadata": {},
   "source": [
    "### #BolsonaroNoPrimeiroTurno22"
   ]
  },
  {
   "cell_type": "code",
   "execution_count": 240,
   "id": "1d7ef0c9",
   "metadata": {},
   "outputs": [
    {
     "data": {
      "text/html": [
       "<div>\n",
       "<style scoped>\n",
       "    .dataframe tbody tr th:only-of-type {\n",
       "        vertical-align: middle;\n",
       "    }\n",
       "\n",
       "    .dataframe tbody tr th {\n",
       "        vertical-align: top;\n",
       "    }\n",
       "\n",
       "    .dataframe thead th {\n",
       "        text-align: right;\n",
       "    }\n",
       "</style>\n",
       "<table border=\"1\" class=\"dataframe\">\n",
       "  <thead>\n",
       "    <tr style=\"text-align: right;\">\n",
       "      <th></th>\n",
       "      <th>Palavra</th>\n",
       "      <th>Frequencia</th>\n",
       "    </tr>\n",
       "  </thead>\n",
       "  <tbody>\n",
       "    <tr>\n",
       "      <th>0</th>\n",
       "      <td>BolsonaroNoPrimeiroTurno22</td>\n",
       "      <td>1639</td>\n",
       "    </tr>\n",
       "    <tr>\n",
       "      <th>1</th>\n",
       "      <td>LulaOficial</td>\n",
       "      <td>229</td>\n",
       "    </tr>\n",
       "    <tr>\n",
       "      <th>2</th>\n",
       "      <td>Bolsonaro</td>\n",
       "      <td>152</td>\n",
       "    </tr>\n",
       "    <tr>\n",
       "      <th>3</th>\n",
       "      <td>AugustoNPistola</td>\n",
       "      <td>85</td>\n",
       "    </tr>\n",
       "    <tr>\n",
       "      <th>4</th>\n",
       "      <td>Seguindo</td>\n",
       "      <td>70</td>\n",
       "    </tr>\n",
       "  </tbody>\n",
       "</table>\n",
       "</div>"
      ],
      "text/plain": [
       "                      Palavra  Frequencia\n",
       "0  BolsonaroNoPrimeiroTurno22        1639\n",
       "1                 LulaOficial         229\n",
       "2                   Bolsonaro         152\n",
       "3             AugustoNPistola          85\n",
       "4                    Seguindo          70"
      ]
     },
     "metadata": {},
     "output_type": "display_data"
    }
   ],
   "source": [
    "top_N = 5\n",
    "a = bolsonaro['Text'].str.cat(sep=' ')\n",
    "words = nltk.tokenize.word_tokenize(a)\n",
    "words = [word for word in words if len(word) > 4]\n",
    "word_dist = nltk.FreqDist(words)\n",
    "rslt1 = pd.DataFrame(word_dist.most_common(top_N),\n",
    "                    columns=['Palavra', 'Frequencia'])\n",
    "display(rslt1)"
   ]
  },
  {
   "cell_type": "code",
   "execution_count": 237,
   "id": "021c90ae",
   "metadata": {},
   "outputs": [
    {
     "data": {
      "image/png": "[encoded data removed]",
      "text/plain": [
       "<Figure size 432x288 with 1 Axes>"
      ]
     },
     "metadata": {
      "needs_background": "light"
     },
     "output_type": "display_data"
    }
   ],
   "source": [
    "df1 = sns.load_dataset('tips')\n",
    "sns.lineplot(data=rslt1, x=\"Frequencia\", y=\"Palavra\")\n",
    "plt.show()"
   ]
  },
  {
   "cell_type": "markdown",
   "id": "c0e87600",
   "metadata": {},
   "source": [
    "### #LulaNo1oturno"
   ]
  },
  {
   "cell_type": "code",
   "execution_count": 242,
   "id": "cbaeae45",
   "metadata": {},
   "outputs": [
    {
     "data": {
      "text/html": [
       "<div>\n",
       "<style scoped>\n",
       "    .dataframe tbody tr th:only-of-type {\n",
       "        vertical-align: middle;\n",
       "    }\n",
       "\n",
       "    .dataframe tbody tr th {\n",
       "        vertical-align: top;\n",
       "    }\n",
       "\n",
       "    .dataframe thead th {\n",
       "        text-align: right;\n",
       "    }\n",
       "</style>\n",
       "<table border=\"1\" class=\"dataframe\">\n",
       "  <thead>\n",
       "    <tr style=\"text-align: right;\">\n",
       "      <th></th>\n",
       "      <th>Palavra</th>\n",
       "      <th>Frequencia</th>\n",
       "    </tr>\n",
       "  </thead>\n",
       "  <tbody>\n",
       "    <tr>\n",
       "      <th>0</th>\n",
       "      <td>LulaNo1oturno</td>\n",
       "      <td>636</td>\n",
       "    </tr>\n",
       "    <tr>\n",
       "      <th>1</th>\n",
       "      <td>LulaOficial</td>\n",
       "      <td>160</td>\n",
       "    </tr>\n",
       "    <tr>\n",
       "      <th>2</th>\n",
       "      <td>Lula</td>\n",
       "      <td>102</td>\n",
       "    </tr>\n",
       "    <tr>\n",
       "      <th>3</th>\n",
       "      <td>ForaBolsonaro</td>\n",
       "      <td>100</td>\n",
       "    </tr>\n",
       "    <tr>\n",
       "      <th>4</th>\n",
       "      <td>PrefiroLula</td>\n",
       "      <td>93</td>\n",
       "    </tr>\n",
       "  </tbody>\n",
       "</table>\n",
       "</div>"
      ],
      "text/plain": [
       "         Palavra  Frequencia\n",
       "0  LulaNo1oturno         636\n",
       "1    LulaOficial         160\n",
       "2           Lula         102\n",
       "3  ForaBolsonaro         100\n",
       "4    PrefiroLula          93"
      ]
     },
     "metadata": {},
     "output_type": "display_data"
    }
   ],
   "source": [
    "top_N = 5\n",
    "a = lula['Text'].str.cat(sep=' ')\n",
    "words = nltk.tokenize.word_tokenize(a)\n",
    "words = [word for word in words if len(word) > 3]\n",
    "word_dist = nltk.FreqDist(words)\n",
    "rslt2 = pd.DataFrame(word_dist.most_common(top_N),\n",
    "                    columns=['Palavra', 'Frequencia'])\n",
    "display(rslt2)"
   ]
  },
  {
   "cell_type": "code",
   "execution_count": 239,
   "id": "9fbed115",
   "metadata": {},
   "outputs": [
    {
     "data": {
      "image/png": "[encoded data removed]",
      "text/plain": [
       "<Figure size 432x288 with 1 Axes>"
      ]
     },
     "metadata": {
      "needs_background": "light"
     },
     "output_type": "display_data"
    }
   ],
   "source": [
    "df1 = sns.load_dataset('tips')\n",
    "sns.lineplot(data=rslt2, x=\"Frequencia\", y=\"Palavra\")\n",
    "plt.show()"
   ]
  }
 ],
 "metadata": {
  "kernelspec": {
   "display_name": "Python 3 (ipykernel)",
   "language": "python",
   "name": "python3"
  },
  "language_info": {
   "codemirror_mode": {
    "name": "ipython",
    "version": 3
   },
   "file_extension": ".py",
   "mimetype": "text/x-python",
   "name": "python",
   "nbconvert_exporter": "python",
   "pygments_lexer": "ipython3",
   "version": "3.7.13"
  }
 },
 "nbformat": 4,
 "nbformat_minor": 5
}
